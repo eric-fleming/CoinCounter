{
 "cells": [
  {
   "cell_type": "code",
   "execution_count": 1,
   "metadata": {},
   "outputs": [],
   "source": [
    "# Packages\n",
    "import numpy as np\n",
    "import pandas as pd\n",
    "import os as os\n",
    "\n",
    "from sklearn.cluster import KMeans\n",
    "from sklearn.metrics import silhouette_score, silhouette_samples\n",
    "\n",
    "import matplotlib.pyplot as plt\n",
    "\n"
   ]
  },
  {
   "cell_type": "code",
   "execution_count": 2,
   "metadata": {},
   "outputs": [
    {
     "name": "stdout",
     "output_type": "stream",
     "text": [
      "/Users/ericfleming/Desktop/coins_python\n"
     ]
    }
   ],
   "source": [
    "# Find path on your machine; relative\n",
    "path = os.getcwd()\n",
    "print (path)\n"
   ]
  },
  {
   "cell_type": "code",
   "execution_count": 3,
   "metadata": {},
   "outputs": [],
   "source": [
    "# Import the data from MatLab\n",
    "\n",
    "# Nickle, Dime, and Quarter radii\n",
    "r1_np = pd.read_csv(path+\"/data/radii_np_change1.csv\", header=None)\n",
    "r2_np = pd.read_csv(path+\"/data/radii_np_change2.csv\", header=None)\n",
    "r3_np = pd.read_csv(path+\"/data/radii_np_change3.csv\", header=None)\n",
    "r4_np = pd.read_csv(path+\"/data/radii_np_manycoins_refl.csv\", header=None)\n",
    "r5_np = pd.read_csv(path+\"/data/radii_np_nopennies_refl.csv\", header=None)\n",
    "r6_np = pd.read_csv(path+\"/data/radii_np_oneofeach1.csv\", header=None)\n",
    "r7_np = pd.read_csv(path+\"/data/radii_np_oneofeach2.csv\", header=None)\n",
    "r8_np = pd.read_csv(path+\"/data/radii_np_separated.csv\", header=None)\n",
    "r9_np = pd.read_csv(path+\"/data/radii_np_question.csv\", header=None)\n",
    "\n",
    "# Penny radii\n",
    "r1_p = pd.read_csv(path+\"/data/radii_p_change1.csv\", header=None)\n",
    "r2_p = pd.read_csv(path+\"/data/radii_p_change2.csv\", header=None)\n",
    "r3_p = pd.read_csv(path+\"/data/radii_p_change3.csv\", header=None)\n",
    "r4_p = pd.read_csv(path+\"/data/radii_p_manycoins_refl.csv\", header=None)\n",
    "#r5_p = pd.read_csv(path+\"/data/radii_p_nopennies_refl.csv\", header=None)\n",
    "r6_p = pd.read_csv(path+\"/data/radii_p_oneofeach1.csv\", header=None)\n",
    "r7_p = pd.read_csv(path+\"/data/radii_p_oneofeach2.csv\", header=None)\n",
    "r8_p = pd.read_csv(path+\"/data/radii_p_separated.csv\", header=None)\n",
    "r9_p = pd.read_csv(path+\"/data/radii_p_question.csv\", header=None)"
   ]
  },
  {
   "cell_type": "code",
   "execution_count": 97,
   "metadata": {},
   "outputs": [
    {
     "name": "stdout",
     "output_type": "stream",
     "text": [
      "     0\n",
      "0   92\n",
      "1   90\n",
      "2  109\n",
      "3  121\n",
      "-----\n",
      "[[ 92]\n",
      " [ 90]\n",
      " [109]\n",
      " [121]]\n"
     ]
    }
   ],
   "source": [
    "# Testing conentens\n",
    "print (r1_np)\n",
    "print (\"-----\")\n",
    "print (np.array(r1_np))"
   ]
  },
  {
   "cell_type": "code",
   "execution_count": 4,
   "metadata": {},
   "outputs": [],
   "source": [
    "# Pre-process the data for use\n",
    "\n",
    "def preProcess(pixel_df):\n",
    "    r_points = []\n",
    "    radii = np.sort(np.array(pixel_df))\n",
    "    length = len(radii)\n",
    "    \n",
    "    for i in range(0,length):\n",
    "        r_points.append([radii[i][0],0])\n",
    "    return r_points\n"
   ]
  },
  {
   "cell_type": "code",
   "execution_count": 83,
   "metadata": {},
   "outputs": [
    {
     "ename": "NameError",
     "evalue": "name 'pixelRadii' is not defined",
     "output_type": "error",
     "traceback": [
      "\u001b[0;31m---------------------------------------------------------------------------\u001b[0m",
      "\u001b[0;31mNameError\u001b[0m                                 Traceback (most recent call last)",
      "\u001b[0;32m<ipython-input-83-ff749041038d>\u001b[0m in \u001b[0;36m<module>\u001b[0;34m\u001b[0m\n\u001b[1;32m      9\u001b[0m \u001b[0;34m\u001b[0m\u001b[0m\n\u001b[1;32m     10\u001b[0m \u001b[0;31m#pixelAreas = pixelAreas_2\u001b[0m\u001b[0;34m\u001b[0m\u001b[0;34m\u001b[0m\u001b[0;34m\u001b[0m\u001b[0m\n\u001b[0;32m---> 11\u001b[0;31m \u001b[0mdatapoints\u001b[0m \u001b[0;34m=\u001b[0m \u001b[0mlen\u001b[0m\u001b[0;34m(\u001b[0m\u001b[0mpixelRadii\u001b[0m\u001b[0;34m)\u001b[0m\u001b[0;34m\u001b[0m\u001b[0;34m\u001b[0m\u001b[0m\n\u001b[0m\u001b[1;32m     12\u001b[0m \u001b[0;34m\u001b[0m\u001b[0m\n\u001b[1;32m     13\u001b[0m \u001b[0;32mfor\u001b[0m \u001b[0mi\u001b[0m \u001b[0;32min\u001b[0m \u001b[0mrange\u001b[0m\u001b[0;34m(\u001b[0m\u001b[0;36m0\u001b[0m\u001b[0;34m,\u001b[0m\u001b[0mdatapoints\u001b[0m\u001b[0;34m)\u001b[0m\u001b[0;34m:\u001b[0m\u001b[0;34m\u001b[0m\u001b[0;34m\u001b[0m\u001b[0m\n",
      "\u001b[0;31mNameError\u001b[0m: name 'pixelRadii' is not defined"
     ]
    }
   ],
   "source": [
    "# convert to 2D so we can do kmeans later\n",
    "RadiiPoints = []\n",
    "\n",
    "# Bring area in once the radii works\n",
    "#AreaPoints = []\n",
    "\n",
    "\n",
    "# the data you want\n",
    "\n",
    "#pixelAreas = pixelAreas_2\n",
    "datapoints = len(pixelRadii)\n",
    "\n",
    "for i in range(0,datapoints):\n",
    "    RadiiPoints.append([pixelRadii[i][0],0])\n",
    "    #AreaPoints.append([pixelAreas[i],0])\n",
    "\n",
    "#print (\"Areas = \",AreaPoints,\"\\n\")\n",
    "print (\"Radii = \",RadiiPoints)"
   ]
  },
  {
   "cell_type": "code",
   "execution_count": 7,
   "metadata": {},
   "outputs": [
    {
     "data": {
      "image/png": "[encoded data removed]",
      "text/plain": [
       "<Figure size 432x288 with 1 Axes>"
      ]
     },
     "metadata": {
      "needs_background": "light"
     },
     "output_type": "display_data"
    }
   ],
   "source": [
    "# initialize kmeans models for all coin combinations\n",
    "\n",
    "data = r2_np\n",
    "\n",
    "pixel_array = np.sort(np.array(data))\n",
    "X = preProcess(data)\n",
    "dataSize = len(data)\n",
    "\n",
    "def kmeansData(X):\n",
    "    # calculate distortion for a range of number of cluster\n",
    "    SSE_values = []\n",
    "    centers = []\n",
    "    kmeans = []\n",
    "    k_classes =[]\n",
    "    silhouette_avg = []\n",
    "    for i in range(0, 4):\n",
    "        km = KMeans(n_clusters=i+1, init='random',n_init=10, max_iter=100,tol=1e-04, random_state=0)\n",
    "        km.fit(X)\n",
    "        kmeans.append(km)\n",
    "        SSE_values.append(km.inertia_)\n",
    "        centers.append(km.cluster_centers_)\n",
    "        if i == 0:\n",
    "            silhouette_avg.append(0)\n",
    "            k_classes.append(-1)\n",
    "        if i > 0:\n",
    "            k_labels = km.fit_predict(X)\n",
    "            k_classes.append(k_labels)\n",
    "            silhouette_avg.append(silhouette_score(X, k_labels))\n",
    "    return (SSE_values,centers,k_classes,silhouette_avg)\n",
    "\n",
    "\n",
    "SSE_values,centers,k_classes,silhouette_avg = kmeansData(X)\n",
    "\n",
    "    \n",
    "\n",
    "# plot\n",
    "plt.plot(range(1, 5), SSE_values, marker='o')\n",
    "plt.xlabel('Number of clusters')\n",
    "plt.ylabel('SSE Value')\n",
    "plt.show()\n",
    "\n"
   ]
  },
  {
   "cell_type": "code",
   "execution_count": 8,
   "metadata": {},
   "outputs": [
    {
     "name": "stdout",
     "output_type": "stream",
     "text": [
      "Choose the Lowest MSE and Highest Sillhoette\n",
      "For  1  clusters, the MSE =  712.0  and the Sillhoette =  0\n",
      "------------------------------------------------------------------------\n",
      "For  2  clusters, the MSE =  124.0  and the Sillhoette =  0.7065127773461107\n",
      "------------------------------------------------------------------------\n",
      "For  3  clusters, the MSE =  3.0  and the Sillhoette =  0.8960779350584448\n",
      "------------------------------------------------------------------------\n",
      "For  4  clusters, the MSE =  1.0  and the Sillhoette =  0.6059351276742581\n",
      "------------------------------------------------------------------------\n"
     ]
    }
   ],
   "source": [
    "# Print Findings\n",
    "\n",
    "def clusterAnalysis(sse, silh):\n",
    "    \n",
    "    size = len(sse)\n",
    "    if size >= 4:\n",
    "        size = 4\n",
    "    if len(sse) == len(silh):\n",
    "        print(\"Choose the Lowest MSE and Highest Sillhoette\")\n",
    "        for i in range(0,size):\n",
    "            print(\"For \",i+1,\" clusters, the MSE = \",sse[i],\" and the Sillhoette = \",silh[i])\n",
    "            print(\"------------------------------------------------------------------------\")\n",
    "    \n",
    "    \n",
    "clusterAnalysis(SSE_values,silhouette_avg)"
   ]
  },
  {
   "cell_type": "code",
   "execution_count": 9,
   "metadata": {},
   "outputs": [
    {
     "name": "stdout",
     "output_type": "stream",
     "text": [
      "[[ 89]\n",
      " [103]\n",
      " [ 87]\n",
      " [104]\n",
      " [114]\n",
      " [115]] \n",
      "\n",
      "[[0.77391304]\n",
      " [0.89565217]\n",
      " [0.75652174]\n",
      " [0.90434783]\n",
      " [0.99130435]\n",
      " [1.        ]] \n",
      "\n",
      "[[ 9.38756522]\n",
      " [10.86426087]\n",
      " [ 9.1766087 ]\n",
      " [10.96973913]\n",
      " [12.02452174]\n",
      " [12.13      ]]\n"
     ]
    }
   ],
   "source": [
    "# Investigating the pixel data\n",
    "print (pixel_array,\"\\n\")\n",
    "\n",
    "# the relative radius sizes\n",
    "print (pixel_array/pixel_array[len(pixel_array)-1],\"\\n\")\n",
    "\n",
    "# divide by max, multiply by the max quarter size\n",
    "print (pixel_array/pixel_array[len(pixel_array)-1]*12.13)\n"
   ]
  },
  {
   "cell_type": "code",
   "execution_count": 10,
   "metadata": {},
   "outputs": [
    {
     "name": "stdout",
     "output_type": "stream",
     "text": [
      "[[114.5   0. ]\n",
      " [ 88.    0. ]\n",
      " [103.5   0. ]]\n",
      "[1 2 1 2 0 0]\n"
     ]
    }
   ],
   "source": [
    "# We can determine the maximum silhouette\n",
    "# This gives us the index\n",
    "# the clusters is 1 more than the index\n",
    "\n",
    "max_shillhoette_index = silhouette_avg.index(max(silhouette_avg))\n",
    "k_clusters = max_shillhoette_index+1\n",
    "\n",
    "\n",
    "print(centers[max_shillhoette_index])\n",
    "print(k_classes[max_shillhoette_index])"
   ]
  },
  {
   "cell_type": "code",
   "execution_count": 12,
   "metadata": {},
   "outputs": [],
   "source": [
    "# So we can have 1, 2, or 3 clusters we need to determine what combination it is\n",
    "\n",
    "# If we have 1, then we need to compare it to the size of the penny to determine what it is\n",
    "\n",
    "# If we have 2, then the Nickle or Quarter could be the largest\n",
    "\n",
    "# If we have 3, then the Quarter is the largest\n",
    "\n",
    "def countPennies(penny_array):\n",
    "    return len(penny_array)\n",
    "\n",
    "def countNonPennies(non_p_array,clusters):\n",
    "    \n",
    "    #print (\"Before normalization : \")\n",
    "    #print (non_p_array)\n",
    "    #normalize non_p_array for physical sizes\n",
    "    non_p_array = non_p_array/non_p_array[len(non_p_array)-1]*12.13\n",
    "    #print (\"After normalization : \")\n",
    "    #print (non_p_array)\n",
    "    \n",
    "    # coin sizes from US Mint (in mm)\n",
    "    D_size = 8.955\n",
    "    N_size = 10.605\n",
    "    Q_size = 12.13\n",
    "    \n",
    "    error = 0.7625\n",
    "    \n",
    "    # coins actually are ordered by size D,N,Q\n",
    "    sorted_coins = [0,0,0]\n",
    "    num_of_coins = len(non_p_array)\n",
    "    \n",
    "    if clusters == 3:\n",
    "        #while((sorted_coins[0]+sorted_coins[1]+sorted_coins[2]) != num_of_coins):\n",
    "        Q_min = Q_size - error\n",
    "        Q_max = Q_size + error\n",
    "        N_min = N_size - error\n",
    "        N_max = N_size + error\n",
    "        D_min = D_size - error\n",
    "        D_max = D_size + error\n",
    "\n",
    "        for i in range(0,num_of_coins):\n",
    "\n",
    "            if non_p_array[i] >= Q_min and non_p_array[i] <= Q_max:\n",
    "                sorted_coins[2] = sorted_coins[2]+1\n",
    "                #non_p_array[i] = 0\n",
    "\n",
    "            elif non_p_array[i] >= N_min and non_p_array[i] <= N_max:\n",
    "                sorted_coins[1] = sorted_coins[1]+1\n",
    "                #non_p_array[i] = 0\n",
    "\n",
    "            elif non_p_array[i] >= D_min and non_p_array[i] <= D_max:\n",
    "                sorted_coins[0] = sorted_coins[0]+1\n",
    "                #non_p_array[i] = 0\n",
    "                    \n",
    "            #error = error + 0.001\n",
    "            \n",
    "    print (\"The number of non-pennies\"+str(len(non_p_array)))\n",
    "    print (sorted_coins)\n",
    "    print (\"The final error is \"+str(error))\n",
    "    \n",
    "    return sorted_coins\n",
    "\n",
    "\n"
   ]
  },
  {
   "cell_type": "code",
   "execution_count": 17,
   "metadata": {},
   "outputs": [
    {
     "name": "stdout",
     "output_type": "stream",
     "text": [
      "The number of non-pennies6\n",
      "[2, 2, 2]\n",
      "The final error is 0.7625\n",
      "0.8300000000000001\n"
     ]
    }
   ],
   "source": [
    "# Calculate money\n",
    "\n",
    "\n",
    "def cashIn(p_df,np_df):\n",
    "    \n",
    "    # convert to numpy arrays\n",
    "    p_array = np.array(p_df)\n",
    "    np_array = np.array(np_df)\n",
    "    \n",
    "    # Just return the number of pennies\n",
    "    pennyAmount = len(p_array)\n",
    "    \n",
    "    # convert data to usable 2D format for kmeans algorithm\n",
    "    X = preProcess(np_df)\n",
    "    \n",
    "    # compute kmeans algorithm and extract data\n",
    "    SSE_values,centers,k_classes,silhouette_avg = kmeansData(X)\n",
    "    \n",
    "    # select the number of clusters using the highest silhouette score\n",
    "    max_shillhoette_index = silhouette_avg.index(max(silhouette_avg))\n",
    "    k_clusters = max_shillhoette_index+1\n",
    "    \n",
    "    \n",
    "    # hard code k_clusters if you get errors\n",
    "    nonPennies = countNonPennies(np_array,k_clusters)\n",
    "    \n",
    "    money = 0.01*pennyAmount + 0.10*nonPennies[0] + 0.05*nonPennies[1] + 0.25*nonPennies[2]\n",
    "    return money\n",
    "\n",
    "\n",
    "yourMoney = cashIn(r8_p,r8_np)\n",
    "print (yourMoney)\n",
    "\n",
    "\n"
   ]
  },
  {
   "cell_type": "code",
   "execution_count": null,
   "metadata": {},
   "outputs": [],
   "source": []
  }
 ],
 "metadata": {
  "kernelspec": {
   "display_name": "Python 3",
   "language": "python",
   "name": "python3"
  },
  "language_info": {
   "codemirror_mode": {
    "name": "ipython",
    "version": 3
   },
   "file_extension": ".py",
   "mimetype": "text/x-python",
   "name": "python",
   "nbconvert_exporter": "python",
   "pygments_lexer": "ipython3",
   "version": "3.7.3"
  }
 },
 "nbformat": 4,
 "nbformat_minor": 2
}
